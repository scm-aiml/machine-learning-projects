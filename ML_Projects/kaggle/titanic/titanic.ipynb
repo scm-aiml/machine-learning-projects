{
 "cells": [
  {
   "cell_type": "markdown",
   "metadata": {},
   "source": [
    "Basic notebook for applying a simple sklearn prediction method on the kaggle titanic dataset"
   ]
  },
  {
   "cell_type": "code",
   "execution_count": 37,
   "metadata": {},
   "outputs": [],
   "source": [
    "import os"
   ]
  },
  {
   "cell_type": "code",
   "execution_count": 38,
   "metadata": {},
   "outputs": [],
   "source": [
    "DATASET_COMP = 'titanic'\n",
    "DATA_DIR = './data'\n",
    "DATA_ZIP = 'titanic.zip'\n",
    "TRAIN_CSV = 'train.csv'\n",
    "TEST_CSV = 'test.csv'\n",
    "\n",
    "VALIDATION_SPLIT = 0.2\n",
    "TARGET_VAR = 'Survived'"
   ]
  },
  {
   "cell_type": "code",
   "execution_count": 45,
   "metadata": {},
   "outputs": [],
   "source": [
    "# load and prep datset from kaggle\n",
    "if not os.listdir(DATA_DIR):\n",
    "    print('data folder is empty. Downloading data...')\n",
    "    from kaggle.api.kaggle_api_extended import KaggleApi\n",
    "    api = KaggleApi()\n",
    "    api.authenticate()\n",
    "\n",
    "    api.competition_download_files(DATASET_COMP, DATA_DIR, quiet = False)\n",
    "\n",
    "if not os.path.exists(os.path.join(DATA_DIR,TRAIN_CSV)) and os.path.exists(os.path.join(DATA_DIR,DATA_ZIP)):\n",
    "    print('data set downloaded, unzipping...')\n",
    "    import zipfile\n",
    "    with zipfile.ZipFile(os.path.join(DATA_DIR, DATA_ZIP), 'r') as zip_ref:\n",
    "        zip_ref.extractall(DATA_DIR)\n"
   ]
  },
  {
   "cell_type": "code",
   "execution_count": 47,
   "metadata": {},
   "outputs": [],
   "source": [
    "# load data into pandas dataframe\n",
    "import pandas as pd\n",
    "\n",
    "train_df = pd.read_csv(os.path.join(DATA_DIR, TRAIN_CSV))\n",
    "test_df = pd.read_csv(os.path.join(DATA_DIR, TEST_CSV))\n",
    "\n",
    "# create train and validation set from train_df, splitting out target column\n",
    "from sklearn.model_selection import train_test_split\n",
    "\n",
    "X_train, X_val, y_train, y_val = train_test_split(train_df.drop(TARGET_VAR, axis = 1), train_df[TARGET_VAR], test_size = VALIDATION_SPLIT, random_state = 42)"
   ]
  },
  {
   "cell_type": "code",
   "execution_count": null,
   "metadata": {},
   "outputs": [],
   "source": []
  }
 ],
 "metadata": {
  "kernelspec": {
   "display_name": "m1_pytorch",
   "language": "python",
   "name": "python3"
  },
  "language_info": {
   "codemirror_mode": {
    "name": "ipython",
    "version": 3
   },
   "file_extension": ".py",
   "mimetype": "text/x-python",
   "name": "python",
   "nbconvert_exporter": "python",
   "pygments_lexer": "ipython3",
   "version": "3.11.4"
  },
  "orig_nbformat": 4
 },
 "nbformat": 4,
 "nbformat_minor": 2
}
