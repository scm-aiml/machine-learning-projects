{
 "cells": [
  {
   "cell_type": "code",
   "execution_count": 1,
   "metadata": {},
   "outputs": [],
   "source": [
    "from detectron2.data.datasets import register_coco_instances\n",
    "from detectron2.data import DatasetCatalog, MetadataCatalog\n"
   ]
  },
  {
   "cell_type": "code",
   "execution_count": null,
   "metadata": {},
   "outputs": [],
   "source": [
    "def register_coco_datasets(config: str):\n",
    "    import yaml\n",
    "    with open(config, 'r') as file:\n",
    "        config_dict = yaml.safe_load(file)\n",
    "    output = {}\n",
    "    for dataset_name, dataset_info in config_dict.items():\n",
    "        register_coco_instances(\n",
    "            name=dataset_name,\n",
    "            metadata={},\n",
    "            json_file=dataset_info['json_file'],\n",
    "            image_root=dataset_info['root_dir']\n",
    "        )\n",
    "        DatasetCatalog.get(dataset_name)\n",
    "        output[dataset_name] = MetadataCatalog.get(dataset_name)\n",
    "    return output\n",
    "\n",
    "\n"
   ]
  },
  {
   "cell_type": "code",
   "execution_count": null,
   "metadata": {},
   "outputs": [],
   "source": [
    "resp= register_coco_datasets('datasets.yml')"
   ]
  },
  {
   "cell_type": "code",
   "execution_count": 2,
   "metadata": {},
   "outputs": [],
   "source": [
    "# Train\n",
    "register_coco_instances(\n",
    "    name=\"damage_train\",\n",
    "    metadata={},\n",
    "    json_file=\"./data/train/COCO_train_annos.json\",\n",
    "    image_root=\"./data/train/\"\n",
    ")\n",
    "\n",
    "register_coco_instances(\n",
    "    name=\"damage_train_mul\",\n",
    "    metadata={},\n",
    "    json_file=\"./data/train/COCO_mul_train_annos.json\",\n",
    "    image_root=\"./data/train/\"\n",
    ")\n",
    "\n",
    "# Val\n",
    "register_coco_instances(\n",
    "    name=\"damage_val\",\n",
    "    metadata={},\n",
    "    json_file=\"./data/val/COCO_val_annos.json\",\n",
    "    image_root=\"./data/val/\"\n",
    ")\n",
    "\n",
    "register_coco_instances(\n",
    "    name=\"damage_val_mul\",\n",
    "    metadata={},\n",
    "    json_file=\"./data/val/COCO_mul_val_annos.json\",\n",
    "    image_root=\"./data/val/\"\n",
    ")"
   ]
  },
  {
   "cell_type": "code",
   "execution_count": 3,
   "metadata": {},
   "outputs": [],
   "source": [
    "DatasetCatalog.get(\"damage_train\") \n",
    "DatasetCatalog.get(\"damage_train_mul\")\n",
    "DatasetCatalog.get(\"damage_val\") \n",
    "DatasetCatalog.get(\"damage_val_mul\")\n",
    "\n",
    "train_metadata = MetadataCatalog.get(\"damage_train\") \n",
    "train_mul_metadata = MetadataCatalog.get(\"damage_train_mul\")\n",
    "val_metadata = MetadataCatalog.get(\"damage_val\") \n",
    "val_mul_metadata = MetadataCatalog.get(\"damage_val_mul\")\n"
   ]
  },
  {
   "cell_type": "code",
   "execution_count": 4,
   "metadata": {},
   "outputs": [
    {
     "name": "stdout",
     "output_type": "stream",
     "text": [
      "Metadata(name='damage_train_mul', json_file='./data/train/COCO_mul_train_annos.json', image_root='./data/train/', evaluator_type='coco', thing_classes=['headlamp', 'rear_bumper', 'door', 'hood', 'front_bumper'], thing_dataset_id_to_contiguous_id={1: 0, 2: 1, 3: 2, 4: 3, 5: 4})\n"
     ]
    }
   ],
   "source": [
    "print(train_mul_metadata)\n",
    "# print(val_mul_metadata.thing_classes)"
   ]
  },
  {
   "cell_type": "code",
   "execution_count": null,
   "metadata": {},
   "outputs": [],
   "source": []
  }
 ],
 "metadata": {
  "kernelspec": {
   "display_name": "detectron2",
   "language": "python",
   "name": "python3"
  },
  "language_info": {
   "codemirror_mode": {
    "name": "ipython",
    "version": 3
   },
   "file_extension": ".py",
   "mimetype": "text/x-python",
   "name": "python",
   "nbconvert_exporter": "python",
   "pygments_lexer": "ipython3",
   "version": "3.11.7"
  }
 },
 "nbformat": 4,
 "nbformat_minor": 2
}
