{
  "nbformat": 4,
  "nbformat_minor": 0,
  "metadata": {
    "colab": {
      "provenance": [],
      "authorship_tag": "ABX9TyMPMtv+xp/0er/BheujdnnN"
    },
    "kernelspec": {
      "name": "python3",
      "display_name": "Python 3"
    },
    "language_info": {
      "name": "python"
    },
    "accelerator": "TPU"
  },
  "cells": [
    {
      "cell_type": "code",
      "execution_count": 3,
      "metadata": {
        "id": "txJFyPYFf9jw"
      },
      "outputs": [],
      "source": [
        "import os\n",
        "from google.colab import userdata\n",
        "os.environ['KAGGLE_USERNAME'] = userdata.get('KAGGLE_USERNAME')\n",
        "os.environ['KAGGLE_KEY'] = userdata.get('KAGGLE_KEY')\n",
        "from kaggle.api.kaggle_api_extended import KaggleApi\n",
        "api = KaggleApi()\n",
        "api.authenticate()"
      ]
    },
    {
      "cell_type": "code",
      "source": [
        "! kaggle datasets download -d lplenka/coco-car-damage-detection-dataset --unzip"
      ],
      "metadata": {
        "id": "za8fciaGhoNZ",
        "outputId": "d6044302-3cb0-4058-ceeb-9d03247b6883",
        "colab": {
          "base_uri": "https://localhost:8080/"
        }
      },
      "execution_count": 6,
      "outputs": [
        {
          "output_type": "stream",
          "name": "stdout",
          "text": [
            "Downloading coco-car-damage-detection-dataset.zip to /content\n",
            "\r  0% 0.00/14.4M [00:00<?, ?B/s]\r 69% 10.0M/14.4M [00:00<00:00, 104MB/s]\n",
            "\r100% 14.4M/14.4M [00:00<00:00, 125MB/s]\n"
          ]
        }
      ]
    },
    {
      "cell_type": "code",
      "source": [],
      "metadata": {
        "id": "y6c4rjRHj6m1"
      },
      "execution_count": null,
      "outputs": []
    }
  ]
}